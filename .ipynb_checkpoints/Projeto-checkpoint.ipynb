{
 "cells": [
  {
   "cell_type": "markdown",
   "metadata": {},
   "source": [
    "Este trabalho usa a biblioteca do plot.ly com _offline plot_. Tendo o `plot.ly` instalado e atualizado, ele mostra o gráfico no Jupyter sem precisar de credenciais. Mais informações [aqui](https://plot.ly/python/offline/#generating-offline-graphs-within-jupyter-notebook)"
   ]
  },
  {
   "cell_type": "code",
   "execution_count": null,
   "metadata": {},
   "outputs": [],
   "source": [
    "from matplotlib import pyplot as plt\n",
    "import plotly.graph_objs as go\n",
    "from plotly import tools\n",
    "import pandas as pd\n",
    "import numpy as np\n",
    "import plotly"
   ]
  },
  {
   "cell_type": "markdown",
   "metadata": {},
   "source": [
    "Inicializa ambiente offline pro plot.ly"
   ]
  },
  {
   "cell_type": "code",
   "execution_count": null,
   "metadata": {},
   "outputs": [],
   "source": [
    "plotly.offline.init_notebook_mode(connected=True)"
   ]
  },
  {
   "cell_type": "markdown",
   "metadata": {},
   "source": [
    "Ignora erros de SSL"
   ]
  },
  {
   "cell_type": "code",
   "execution_count": null,
   "metadata": {},
   "outputs": [],
   "source": [
    "import os, ssl\n",
    "if (not os.environ.get('PYTHONHTTPSVERIFY', '') and\n",
    "    getattr(ssl, '_create_unverified_context', None)): \n",
    "    ssl._create_default_https_context = ssl._create_unverified_context"
   ]
  },
  {
   "cell_type": "markdown",
   "metadata": {},
   "source": [
    "Permite mais de um output no Out da célula"
   ]
  },
  {
   "cell_type": "code",
   "execution_count": null,
   "metadata": {},
   "outputs": [],
   "source": [
    "from IPython.core.interactiveshell import InteractiveShell\n",
    "InteractiveShell.ast_node_interactivity = \"all\""
   ]
  },
  {
   "cell_type": "markdown",
   "metadata": {},
   "source": [
    "# Projeto Final - Introdução a Ciência dos Dados\n",
    "\n",
    "## League of Legends Ranked Matches\n",
    "\n",
    "### Índice\n",
    "* [Introdução](#Introdução)\n",
    "* [Análise Inicial dos Dados](#Análise-Inicial-dos-Dados)\n",
    "    * [Campeões](#Análise---Campeões)\n",
    "    * [Partidas](#Análise---Partidas)\n",
    "    * [Jogadores](#Análise---Jogadores)\n",
    "    * [Estatísticas de Jogadores](#Análise---Estatísticas-de-Jogadores)\n",
    "    * [Estatísticas dos Times](#Análise---Estatísticas-dos-Times)\n",
    "* [Limpeza dos Dados](#Limpeza-dos-Dados)\n",
    "    * [Renomeando Colunas](#Renomeando-colunas)\n",
    "    * [Concatenando bases iguais](#Concatenando-bases-iguais)\n",
    "    * [Trocando \"vitória\" de tabela](#Trocando-\"vitória\"-de-tabela)\n",
    "    * [Conferindo valores](#Conferindo-valores)\n",
    "    * [Última Limpeza](#Última-Limpeza)\n",
    "* [Análise Exploratória](#Análise-Exploratória)\n",
    "    * [Explorando Valores dos Jogadores](#Explorando-Valores-dos-Jogadores)\n",
    "    * [Explorando Valores dos Times](#Explorando-Valores-dos-Times)\n",
    "* [Perguntas](#Perguntas)"
   ]
  },
  {
   "cell_type": "markdown",
   "metadata": {},
   "source": [
    "## Introdução\n",
    "\n",
    "Este relatório é uma análise de dados de uma base sobre o jogo _League of Legends_. A base [League of Legends Ranked Matches](https://www.kaggle.com/paololol/league-of-legends-ranked-matches), retirada do site _Kaggle_, contém informações sobre 180.000 partidas ranqueadas do jogo, situadas em 6 temporadas (_seasons_ 3 a 8), aproximadamente entre os anos 2014 e 2017. Uma partida ranqueada é um modo competitivo de jogo que categoriza os jogadores em ranques, baseados no nível de habilidade. \n",
    "\n",
    "A base é dividida em 7 grandes arquivos. Nosso objetivo inicial é checar como os dados estão dispostos nos arquivos e fazer qualquer alteração necessária. Depois, vamos limpar os dados que possuírem incoerências. O próximo passo será gerar uma análise exploratória e, por fim, responder algumas perguntas interessantes sobre partidas ranqueadas em _League of Legends_. \n"
   ]
  },
  {
   "cell_type": "markdown",
   "metadata": {},
   "source": [
    "## Análise Inicial dos Dados\n",
    "\n",
    "Aqui vamos carregar os arquivos e verificar como os dados estão formatados.\n",
    "\n",
    "Obs: Visto o tamanho dos arquivos (alguns com 56 colunas) e a escassez de recursos computacionais, ficou previamente definido quais atributos seriam mais relevantes para o  trabalho prático."
   ]
  },
  {
   "cell_type": "markdown",
   "metadata": {},
   "source": [
    "O download dos arquivos é feito pelo `read_csv` do pandas, mas, caso isso falhe, deixo comentado uma linha com a opção para abrir os arquivos de uma pasta chamada `data`. Segue links para download:\n",
    "\n",
    "* Champs: [Link1](https://www.kaggle.com/paololol/league-of-legends-ranked-matches/downloads/champs.csv/9) [Link2](https://homepages.dcc.ufmg.br/~irscunha/league-of-legends-ranked-matches/champs.csv)\n",
    "* Matches: [Link1](https://www.kaggle.com/paololol/league-of-legends-ranked-matches/downloads/matches.csv/9) [Link2](https://homepages.dcc.ufmg.br/~irscunha/league-of-legends-ranked-matches/matches.csv)\n",
    "* Participants: [Link1](https://www.kaggle.com/paololol/league-of-legends-ranked-matches/downloads/participants.csv/9) [Link2](https://homepages.dcc.ufmg.br/~irscunha/league-of-legends-ranked-matches/participants.csv)\n",
    "* Stats1: [Link1](https://www.kaggle.com/paololol/league-of-legends-ranked-matches/downloads/stats1.csv/9) [Link2](https://homepages.dcc.ufmg.br/~irscunha/league-of-legends-ranked-matches/stats1.csv)\n",
    "* Stats2: [Link1](https://www.kaggle.com/paololol/league-of-legends-ranked-matches/downloads/stats2.csv/9) [Link2](https://homepages.dcc.ufmg.br/~irscunha/league-of-legends-ranked-matches/stats2.csv)\n",
    "* Teamstats: [Link1](https://www.kaggle.com/paololol/league-of-legends-ranked-matches/downloads/teamstats.csv/9) [Link2](https://homepages.dcc.ufmg.br/~irscunha/league-of-legends-ranked-matches/teamstats.csv)"
   ]
  },
  {
   "cell_type": "markdown",
   "metadata": {},
   "source": [
    "### Análise - Campeões\n",
    "\n",
    "* `name` (inteiro): nome do campeão\n",
    "* `id` (inteiro): identificador único"
   ]
  },
  {
   "cell_type": "code",
   "execution_count": null,
   "metadata": {},
   "outputs": [],
   "source": [
    "# df_champs = pd.read_csv('./data/champs.csv')\n",
    "df_champs = pd.read_csv('https://homepages.dcc.ufmg.br/~irscunha/league-of-legends-ranked-matches/champs.csv')\n",
    "df_champs.head()\n",
    "\n",
    "print('shape:', df_champs.shape)"
   ]
  },
  {
   "cell_type": "markdown",
   "metadata": {},
   "source": [
    "### Análise - Partidas\n",
    "\n",
    "* `id` (inteiro): identificador único\n",
    "* `queueid` (inteiro): identificador de qual fila ranqueada a partida estava\n",
    "* `seasonid` (inteiro): identificador da temporada"
   ]
  },
  {
   "cell_type": "code",
   "execution_count": null,
   "metadata": {},
   "outputs": [],
   "source": [
    "df_matches = pd.read_csv('./data/matches.csv', usecols=['id', 'queueid', 'seasonid'])\n",
    "df_matches.head()\n",
    "\n",
    "print('shape:', df_matches.shape)"
   ]
  },
  {
   "cell_type": "markdown",
   "metadata": {},
   "source": [
    "### Análise - Jogadores\n",
    "\n",
    "* `id` (inteiro): identificador único\n",
    "* `matchid` (inteiro): referencia a tabela de partidas\n",
    "* `player` (inteiro): \n",
    "    * 1-5: time azul\n",
    "    * 6-10: time vermelho\n",
    "* `championid` (inteiro): referencia a tabela de campeões\n",
    "* `role` (string): função que o jogador exerceu\n",
    "    * `SOLO`\n",
    "    * `NONE`\n",
    "    * `DUO_CARRY` \n",
    "    * `DUO_SUPPORT`\n",
    "* `position` (string): parte do mapa onde o jogador estava\n",
    "    * `BOT` \n",
    "    * `JUNGLE` \n",
    "    * `TOP`\n",
    "    * `MID`"
   ]
  },
  {
   "cell_type": "code",
   "execution_count": null,
   "metadata": {},
   "outputs": [],
   "source": [
    "df_players = pd.read_csv('./data/participants.csv', usecols=['id', 'matchid', 'player', 'championid', 'role', 'position'])\n",
    "df_players.head()\n",
    "\n",
    "print('shape:', df_players.shape)"
   ]
  },
  {
   "cell_type": "markdown",
   "metadata": {},
   "source": [
    "### Análise - Estatísticas de Jogadores\n",
    "\n",
    "* `id` (inteiro): identificador único\n",
    "* `win` (inteiro): jogador ganhou a partida em que participa?\n",
    "* `kills` (inteiro): abatimentos feitos pelo jogador na partida\n",
    "* `deaths` (inteiro): mortes na partida\n",
    "* `assists` (inteiro): assistências em abatimentos na artida\n",
    "* `visionscore` (inteiro): placar de visão, uma estatística sobre a contribuição em visão que o jogador teve. Geralmente entre 5 e 150 pontos\n",
    "    * funciona da seguinte forma: cada minuto de sentinela (item que garante visão sobre uma área finita do mapa) colocada gera 1 ponto ao jogador (existem vários modificadores dependendo do tipo de sentinela colocada que podem aumentar esse valor). Toda vez que o jogador retira uma sentinela inimiga, o tempo de vida restante dela é convertida em pontos (1 minuto:1 ponto). Há vários modificadores também que dão pontos bônus base quando usados.\n",
    "* `totminionskilled` (inteiro): o _farm_ do jogador, tropas inimigas (_minions_) e neutras (monstros da selva) abatidas em troca de ouro e experiência (não conta campeões)"
   ]
  },
  {
   "cell_type": "code",
   "execution_count": null,
   "metadata": {},
   "outputs": [],
   "source": [
    "df_stats1 = pd.read_csv('./data/stats1.csv', usecols=['id', 'win', 'kills', 'deaths', 'assists', 'visionscore', \n",
    "                                                      'totminionskilled']) \n",
    "df_stats1.head()\n",
    "\n",
    "print('shape:', df_stats1.shape)"
   ]
  },
  {
   "cell_type": "code",
   "execution_count": null,
   "metadata": {},
   "outputs": [],
   "source": [
    "df_stats2 = pd.read_csv('./data/stats2.csv', usecols=['id', 'win', 'kills', 'deaths', 'assists', 'visionscore', \n",
    "                                                      'totminionskilled']) \n",
    "df_stats2.head()\n",
    "\n",
    "print('shape:', df_stats2.shape)"
   ]
  },
  {
   "cell_type": "markdown",
   "metadata": {},
   "source": [
    "### Análise - Estatísticas dos Times\n",
    "\n",
    "* `matchid` (inteiro): referencia tabela de partidas\n",
    "* `teamid` (inteiro): referencia times\n",
    "* `firstblood` (inteiro): time pegou o primeiro abatimento da partida? (ganha bônus de ouro)\n",
    "* `firsttower` (inteiro): o time destruiu a primeira torre da partida? (ganha bônus de ouro)\n",
    "* `towerkills` (inteiro): número de torres destruídas\n",
    "* `inhibkills` (inteiro): número de inibidores destruídos\n",
    "* `baronkills` (inteiro): número de barões feitos\n",
    "* `dragonkills` (inteiro): número de dragões feitos \n",
    "* `harrykills` (inteiro): arauto foi feito nessa partida?"
   ]
  },
  {
   "cell_type": "code",
   "execution_count": null,
   "metadata": {},
   "outputs": [],
   "source": [
    "df_teamstats = pd.read_csv('./data/teamstats.csv', usecols=['matchid', 'teamid', 'firstblood', 'firsttower', 'towerkills',\n",
    "                                                            'inhibkills', 'baronkills', 'dragonkills', 'harrykills'])\n",
    "df_teamstats.head()\n",
    "\n",
    "print('shape:', df_teamstats.shape)"
   ]
  },
  {
   "cell_type": "markdown",
   "metadata": {},
   "source": [
    "## Limpeza dos Dados\n",
    "\n",
    "Para cada uma das mini-bases vamos renomear colunas, concatenar bases, ordenar os dados, conferir os valores únicos de dados categóricos ou o máximo e mínimo de cada coluna de dados numéricos, substituir valores NaN (se for necessário) e, obviamente, limpar todos os dados incorretos ou incompletos."
   ]
  },
  {
   "cell_type": "markdown",
   "metadata": {},
   "source": [
    "### Renomeando colunas\n",
    "\n",
    "O nome `id` é muito vago e pode causar confusões, por isso vamos trocar todos por nomes que façam mais sentido em cada tabela:"
   ]
  },
  {
   "cell_type": "code",
   "execution_count": null,
   "metadata": {},
   "outputs": [],
   "source": [
    "df_champs.rename(columns={'id': 'championid'}, inplace=True)\n",
    "print('df_champs:', list(df_champs))\n",
    "\n",
    "df_matches.rename(columns={'id': 'matchid'}, inplace=True)\n",
    "print('df_matches:', list(df_matches))\n",
    "\n",
    "df_players.rename(columns={'id': 'playerid'}, inplace=True)\n",
    "print('df_players:', list(df_players))\n",
    "\n",
    "df_stats1.rename(columns={'id': 'playerid'}, inplace=True)\n",
    "print('df_stats1:', list(df_stats1))\n",
    "\n",
    "df_stats2.rename(columns={'id': 'playerid'}, inplace=True)\n",
    "print('df_stats2:', list(df_stats2))"
   ]
  },
  {
   "cell_type": "markdown",
   "metadata": {},
   "source": [
    "### Concatenando bases iguais\n",
    "\n",
    "Em seguida, vamos concatenar as bases `df_stats1` e `df_stats2`, que possuem os mesmos dados, só foram separadas por serem muito grandes:"
   ]
  },
  {
   "cell_type": "code",
   "execution_count": null,
   "metadata": {},
   "outputs": [],
   "source": [
    "df_playerstats = pd.concat([df_stats1, df_stats2])\n",
    "df_playerstats.head()\n",
    "df_playerstats.tail()\n",
    "\n",
    "print('shape:', df_playerstats.shape)"
   ]
  },
  {
   "cell_type": "markdown",
   "metadata": {},
   "source": [
    "Desejamos também juntar as tabelas do jogadores e de suas estatísticas, mas devemos notar o seguinte fator, o número de linhas na tabela dos jogadores é maior que o de suas estatísticas, isto é, existem jogadores sem informações que nós devemos remover:"
   ]
  },
  {
   "cell_type": "code",
   "execution_count": null,
   "metadata": {},
   "outputs": [],
   "source": [
    "print('jogadores antes:', df_players.shape[0])\n",
    "print('informações:', df_playerstats.shape[0])\n",
    "\n",
    "lista = list(set(df_players['playerid']) - set(df_playerstats['playerid']))\n",
    "print('jogadores sem informação:', lista)\n",
    "\n",
    "df_players = df_players[~df_players.playerid.isin(lista)]\n",
    "print('jogadores agora:', df_players.shape[0])  \n",
    "\n",
    "print('concatenando...')\n",
    "df_players = df_players.join(df_playerstats.set_index('playerid'), on='playerid')\n",
    "\n",
    "df_players.head()\n",
    "\n",
    "print('shape:', df_players.shape)"
   ]
  },
  {
   "cell_type": "markdown",
   "metadata": {},
   "source": [
    "### Trocando \"vitória\" de tabela\n",
    "\n",
    "Com as informações dos jogadores todas unificadas na tabela acima, percebemos uma coisa intrigante: por que a informação de vitória está na tabela dos jogadores e não dos times? Em minha visão, é informação desnecessária sendo repetida na tabela errada, então iremos passá-la para a outra tabela. \n",
    "\n",
    "Começaremos separando a informação de vitória e o id das partidas e, em seguida, iremos juntar com a tabela `teamstats`:"
   ]
  },
  {
   "cell_type": "code",
   "execution_count": null,
   "metadata": {
    "scrolled": false
   },
   "outputs": [],
   "source": [
    "df = pd.DataFrame({'matchid': df_players.matchid, 'win': df_players.win})\n",
    "\n",
    "print('valores extraídos da df_players:')\n",
    "df.head()\n",
    "\n",
    "df.drop_duplicates(inplace=True)\n",
    "print('sem linhas duplicadas:')\n",
    "df.head()\n"
   ]
  },
  {
   "cell_type": "markdown",
   "metadata": {},
   "source": [
    "Com a informação de vitória separada junto com o id, devemos criar um id único nas duas tabelas a serem unidas (`df` e `df_teamstats`) e concatenar as tabelas baseadas nesse id, supondo que o primeiro time sempre é o número 100 e o segundo é sempre o 200.\n",
    "\n",
    "Notamos que o número de times é maior que o número de vitórias, então vamos excluir as partidas que não possuem informação de quem ganhou (ou ela está incompleta):"
   ]
  },
  {
   "cell_type": "code",
   "execution_count": null,
   "metadata": {},
   "outputs": [],
   "source": [
    "d = df['matchid'].value_counts()\n",
    "lista = [x for x,y in zip(d.keys().tolist(), d.tolist())  if y < 2]\n",
    "print('partidas com estatísticas incompletas:', lista)\n",
    "\n",
    "print('vitórias antes:', df.shape[0])\n",
    "df = df[~df.matchid.isin(lista)]\n",
    "print('vitórias agora:', df.shape[0])\n",
    "\n",
    "print('df_teamstats antes:', df_teamstats.shape[0])\n",
    "df_teamstats = df_teamstats[~df_teamstats.matchid.isin(lista)]\n",
    "print('df_teamstats agora:', df_teamstats.shape[0])\n",
    "\n",
    "print('df_players agora:', df_players.shape[0])\n",
    "df_players = df_players[~df_players.matchid.isin(lista)]\n",
    "print('df_players agora:', df_players.shape[0])\n",
    "\n",
    "print('df_matches agora:', df_matches.shape[0])\n",
    "df_matches = df_matches[~df_matches.matchid.isin(lista)]\n",
    "print('df_matches agora:', df_matches.shape[0])"
   ]
  },
  {
   "cell_type": "code",
   "execution_count": null,
   "metadata": {},
   "outputs": [],
   "source": [
    "df['index'] = range(0, len(df))\n",
    "df_teamstats['index'] = range(0, len(df_teamstats))\n",
    "\n",
    "df_teamstats = df_teamstats.merge(df.set_index('index'), on=['index', 'matchid'], how='left')\n",
    "df_teamstats.head()"
   ]
  },
  {
   "cell_type": "markdown",
   "metadata": {},
   "source": [
    "Agora precisamos limpar as tabelas, da seguinte forma:\n",
    "* remover `win` da tabela `df_players` e\n",
    "* remover `index` da tabela `df_teamstats`\n",
    "* reorganizar as colunas para melhorar legibilidade"
   ]
  },
  {
   "cell_type": "code",
   "execution_count": null,
   "metadata": {},
   "outputs": [],
   "source": [
    "del df_players['win']\n",
    "del df_teamstats['index']\n",
    "\n",
    "print('sem as colunas:')\n",
    "df_players.head()\n",
    "df_teamstats.head()"
   ]
  },
  {
   "cell_type": "code",
   "execution_count": null,
   "metadata": {
    "scrolled": false
   },
   "outputs": [],
   "source": [
    "df_teamstats = df_teamstats.reindex(['matchid', 'teamid', 'win', 'firstblood', 'firsttower', 'towerkills', 'inhibkills', \n",
    "                                     'baronkills', 'dragonkills', 'harrykills'], axis=1)\n",
    "df_teamstats.head()"
   ]
  },
  {
   "cell_type": "markdown",
   "metadata": {},
   "source": [
    "### Conferindo valores\n",
    "\n",
    "Gostaríamos de ver, para cada tabela, quais são os valores únicos discretos, quais são os limites para cada atributo, se existem valores errados/NaN a serem removidos ou substituídos e se existem valores duplicados. Para isso, vamos criando pequenos dataframes para mostrar as informações básicas interessantes sobre os pedaços da base:"
   ]
  },
  {
   "cell_type": "code",
   "execution_count": null,
   "metadata": {},
   "outputs": [],
   "source": [
    "df = pd.DataFrame({'df_champs': ['championid', 'name'], \n",
    "                   'valores duplicados?': [any(df_champs['championid'].duplicated()), \n",
    "                                           any(df_champs['name'].duplicated())],\n",
    "                   'valores NaN?': [df_champs['championid'].isnull().values.any(), \n",
    "                                    df_champs['name'].isnull().values.any()],\n",
    "                   'mesmo tipo?': [all(isinstance(x, int) for x in df_champs.championid),\n",
    "                                   all(isinstance(x, str) for x in df_champs.name)]\n",
    "                  })\n",
    "df"
   ]
  },
  {
   "cell_type": "code",
   "execution_count": null,
   "metadata": {},
   "outputs": [],
   "source": [
    "df = pd.DataFrame({'df_matches': ['matchid', 'queueid', 'seasonid'], \n",
    "                   'valores duplicados?': [any(df_matches['matchid'].duplicated()), '-', '-'],\n",
    "                   'valores NaN?': [df_matches['matchid'].isnull().values.any(), \n",
    "                                    df_matches['queueid'].isnull().values.any(), \n",
    "                                    df_matches['seasonid'].isnull().values.any()],\n",
    "                   'valores únicos': ['-', df_matches.queueid.unique(), \n",
    "                                      df_matches.seasonid.unique()],\n",
    "                   'mesmo tipo?': [all(isinstance(x, int) for x in df_matches.matchid),\n",
    "                                   all(isinstance(x, int) for x in df_matches.queueid),\n",
    "                                   all(isinstance(x, int) for x in df_matches.seasonid),]\n",
    "                  })\n",
    "\n",
    "df"
   ]
  },
  {
   "cell_type": "code",
   "execution_count": null,
   "metadata": {},
   "outputs": [],
   "source": [
    "df = pd.DataFrame({'df_players': ['playerid', 'matchid', 'player', 'championid', 'role', 'position', 'kills', 'deaths', \n",
    "                                  'assists', 'visionscore', 'totminionskilled'], \n",
    "                   'valores duplicados?': [any(df_players['playerid'].duplicated()), '-', '-', '-', '-', '-', '-', '-', \n",
    "                                           '-', '-', '-'],\n",
    "                   'valores NaN?': [df_players['playerid'].isnull().values.any(), \n",
    "                                    df_players['matchid'].isnull().values.any(), \n",
    "                                    df_players['player'].isnull().values.any(), \n",
    "                                    df_players['championid'].isnull().values.any(),\n",
    "                                    df_players['role'].isnull().values.any(), \n",
    "                                    df_players['position'].isnull().values.any(),\n",
    "                                    df_players['kills'].isnull().values.any(), \n",
    "                                    df_players['deaths'].isnull().values.any(),\n",
    "                                    df_players['assists'].isnull().values.any(),\n",
    "                                    df_players['visionscore'].isnull().values.any(),\n",
    "                                    df_players['totminionskilled'].isnull().values.any()],\n",
    "                   'valores únicos': ['-', '-', df_players.player.unique(), '-', df_players.role.unique(), \n",
    "                                      df_players.position.unique(), '-', '-', '-', '-', '-'],\n",
    "                   'mínimo': ['-', '-', '-', '-', '-', '-', min(df_players.kills), min(df_players.deaths), \n",
    "                              min(df_players.assists), min(df_players.visionscore), min(df_players.totminionskilled),],\n",
    "                   'máximo': ['-', '-', '-', '-', '-', '-', max(df_players.kills), max(df_players.deaths), \n",
    "                              max(df_players.assists), max(df_players.visionscore), max(df_players.totminionskilled)],\n",
    "                   'mesmo tipo?': [all(isinstance(x, int) for x in df_players.playerid),\n",
    "                                   all(isinstance(x, int) for x in df_players.matchid),\n",
    "                                   all(isinstance(x, int) for x in df_players.player),\n",
    "                                   all(isinstance(x, int) for x in df_players.championid),\n",
    "                                   all(isinstance(x, str) for x in df_players.role),\n",
    "                                   all(isinstance(x, str) for x in df_players.position),\n",
    "                                   all(isinstance(x, int) for x in df_players.kills),\n",
    "                                   all(isinstance(x, int) for x in df_players.deaths),\n",
    "                                   all(isinstance(x, int) for x in df_players.assists),\n",
    "                                   all(isinstance(x, int) for x in df_players.visionscore),\n",
    "                                   all(isinstance(x, int) for x in df_players.totminionskilled)]\n",
    "                  })\n",
    "\n",
    "df"
   ]
  },
  {
   "cell_type": "code",
   "execution_count": null,
   "metadata": {},
   "outputs": [],
   "source": [
    "df = pd.DataFrame({'df_teamstats': ['matchid', 'teamid', 'win', 'firstblood', 'firsttower', 'towerkills', 'inhibkills', \n",
    "                                    'baronkills', 'dragonkills', 'harrykills'], \n",
    "                   'valores NaN?': [df_teamstats['matchid'].isnull().values.any(), \n",
    "                                    df_teamstats['teamid'].isnull().values.any(),\n",
    "                                    df_teamstats['win'].isnull().values.any(),\n",
    "                                    df_teamstats['firstblood'].isnull().values.any(),\n",
    "                                    df_teamstats['firsttower'].isnull().values.any(), \n",
    "                                    df_teamstats['towerkills'].isnull().values.any(),\n",
    "                                    df_teamstats['inhibkills'].isnull().values.any(), \n",
    "                                    df_teamstats['baronkills'].isnull().values.any(),\n",
    "                                    df_teamstats['dragonkills'].isnull().values.any(),\n",
    "                                    df_teamstats['harrykills'].isnull().values.any()],\n",
    "                   'valores únicos': ['-', '-', df_teamstats.win.unique(), df_teamstats.firstblood.unique(), \n",
    "                                      df_teamstats.firsttower.unique(), '-', '-', '-', '-', \n",
    "                                      df_teamstats.harrykills.unique()],\n",
    "                   'mínimo': ['-', '-', '-', '-', '-', min(df_teamstats.towerkills), min(df_teamstats.inhibkills), \n",
    "                              min(df_teamstats.baronkills), min(df_teamstats.dragonkills), '-'],\n",
    "                   'máximo': ['-', '-', '-', '-', '-', max(df_teamstats.towerkills), max(df_teamstats.inhibkills), \n",
    "                              max(df_teamstats.baronkills), max(df_teamstats.dragonkills), '-'],\n",
    "                   'mesmo tipo?': [all(isinstance(x, int) for x in df_teamstats.matchid),\n",
    "                                   all(isinstance(x, int) for x in df_teamstats.teamid),\n",
    "                                   all(isinstance(x, int) for x in df_teamstats.win),\n",
    "                                   all(isinstance(x, int) for x in df_teamstats.firstblood),\n",
    "                                   all(isinstance(x, int) for x in df_teamstats.firsttower),\n",
    "                                   all(isinstance(x, int) for x in df_teamstats.towerkills),\n",
    "                                   all(isinstance(x, int) for x in df_teamstats.inhibkills),\n",
    "                                   all(isinstance(x, int) for x in df_teamstats.baronkills),\n",
    "                                   all(isinstance(x, int) for x in df_teamstats.dragonkills),\n",
    "                                   all(isinstance(x, int) for x in df_teamstats.harrykills)]\n",
    "                  })\n",
    "\n",
    "df"
   ]
  },
  {
   "cell_type": "markdown",
   "metadata": {},
   "source": [
    "### Última Limpeza\n",
    "\n",
    "Até aqui nós percebemos pequenos problemas que tentaremos excluir agora, sendo considerados inconsistências:\n",
    "1. Os valores na coluna `queueid` na tabela `df_matches` estão, em sua maioria, desatualizados:\n",
    "    * todos os valores 4 foram substituídos por 420 e todos os valores 9 foram substituídos por 470 na API oficial da Riot Games\n",
    "    * os valores 41, 42 e 410 foram depreciados na API e serão excluídos da base\n",
    "    * os valores 470 se referem a outro mapa que não será explorado nesse relatório então eles serão excluídos (consequentementes vamos excluir os valores 9 também)\n",
    "    * serão então mantidos os valores: 4, 420 e 440\n",
    "\n",
    "**Obs:** O motivo para a exclusão desses valores é que são estilos diferentes de jogo e mapa, que podem influenciar nas estatísticas aqui obtidas (por exemplo, o mapa Twisted Treeline, que vamos excluir, é 3x3, enquanto o mapa oficial é 5x5; o `queueid` 42 se referia a um estilo de jogo de time fechado, diferente do modo solo/duo, onde você não escolhe a maior parte dos seus companheiros de equipe)\n",
    "\n",
    "2. Existe um valor na coluna `role` da tabela `df_players` que não condiz com o esperado: o valor `DUO` não informa se a pessoa jogou de `carry` ou `support` e por isso não pode ser considerado nas estatísticas\n",
    "3. Também iremos remover as linhas que contém absurdos como mais de 1 arauto, mais de 11 torres e mais de 3 inibidores\n",
    "4. Existem valores NaN na coluna `win` e os demais valores são _float_ sem necessidade\n",
    "5. Vamos trocar `NONE` porque não é um nome explicativo"
   ]
  },
  {
   "cell_type": "markdown",
   "metadata": {},
   "source": [
    "1. Removendo valores incorretos no `queueid`:"
   ]
  },
  {
   "cell_type": "code",
   "execution_count": null,
   "metadata": {
    "scrolled": false
   },
   "outputs": [],
   "source": [
    "lista = [x for x,y in zip(df_matches.matchid, df_matches.queueid) if y in [9, 41, 42, 410]]\n",
    "\n",
    "print('partidas antes:', df_matches.shape[0])\n",
    "df_matches = df_matches[~df_matches.matchid.isin(lista)]\n",
    "print('partidas agora:', df_matches.shape[0], '\\n')\n",
    "\n",
    "print('teamstats antes:', df_teamstats.shape[0])\n",
    "df_teamstats = df_teamstats[~df_teamstats.matchid.isin(lista)]\n",
    "print('teamstats agora:', df_teamstats.shape[0], '\\n')\n",
    "\n",
    "print('jogadores antes:', df_players.shape[0])\n",
    "df_players = df_players[~df_players.matchid.isin(lista)]\n",
    "print('jogadores agora:', df_players.shape[0], '\\n')\n",
    "\n",
    "print('valores únicos da queueid:', df_matches.queueid.unique())"
   ]
  },
  {
   "cell_type": "markdown",
   "metadata": {},
   "source": [
    "2. Removendo valores incorretos no `role`:"
   ]
  },
  {
   "cell_type": "code",
   "execution_count": null,
   "metadata": {},
   "outputs": [],
   "source": [
    "lista = [x for x,y in zip(df_players.playerid, df_players.role) if y == 'DUO']\n",
    "\n",
    "print('jogadores antes:', df_players.shape[0])\n",
    "df_players = df_players[~df_players.playerid.isin(lista)]\n",
    "print('jogadores agora:', df_players.shape[0], '\\n')\n",
    "\n",
    "print('valores únicos da role:', df_players.role.unique())"
   ]
  },
  {
   "cell_type": "markdown",
   "metadata": {},
   "source": [
    "3. Removendo valores incorretos no `towerkills`, no `inhibkills` e no `harrykills`:"
   ]
  },
  {
   "cell_type": "code",
   "execution_count": null,
   "metadata": {},
   "outputs": [],
   "source": [
    "lista = [w for w,x,y,z in zip(df_teamstats.matchid, df_teamstats.towerkills, df_teamstats.inhibkills, \n",
    "                              df_teamstats.harrykills) if x > 11 or y > 3 or z > 1]\n",
    "\n",
    "print('partidas antes:', df_matches.shape[0])\n",
    "df_matches = df_matches[~df_matches.matchid.isin(lista)]\n",
    "print('partidas agora:', df_matches.shape[0], '\\n')\n",
    "\n",
    "print('teamstats antes:', df_teamstats.shape[0])\n",
    "df_teamstats = df_teamstats[~df_teamstats.matchid.isin(lista)]\n",
    "print('teamstats agora:', df_teamstats.shape[0], '\\n')\n",
    "\n",
    "print('jogadores antes:', df_players.shape[0])\n",
    "df_players = df_players[~df_players.matchid.isin(lista)]\n",
    "print('jogadores agora:', df_players.shape[0], '\\n')\n",
    "\n",
    "print('mínimo e máximo de towerkills', min(df_teamstats.towerkills), max(df_teamstats.towerkills))\n",
    "print('mínimo e máximo de inhibkills', min(df_teamstats.inhibkills), max(df_teamstats.inhibkills))\n",
    "print('valores únicos de harrykills:', df_teamstats.harrykills.unique())"
   ]
  },
  {
   "cell_type": "markdown",
   "metadata": {},
   "source": [
    "4. Removendo NaN no `win` e passar tipo para inteiro:"
   ]
  },
  {
   "cell_type": "code",
   "execution_count": null,
   "metadata": {},
   "outputs": [],
   "source": [
    "index = df_teamstats.loc[df_teamstats['win'].isnull()].index\n",
    "lista = df_teamstats.iloc[index]['matchid'].values\n",
    "\n",
    "df_teamstats = df_teamstats.dropna()\n",
    "\n",
    "print('partidas antes:', df_matches.shape[0])\n",
    "df_matches = df_matches[~df_matches.matchid.isin(lista)]\n",
    "print('partidas agora:', df_matches.shape[0], '\\n')\n",
    "\n",
    "print('teamstats antes:', df_teamstats.shape[0])\n",
    "df_teamstats = df_teamstats[~df_teamstats.matchid.isin(lista)]\n",
    "print('teamstats agora:', df_teamstats.shape[0], '\\n')\n",
    "\n",
    "print('jogadores antes:', df_players.shape[0])\n",
    "df_players = df_players[~df_players.matchid.isin(lista)]\n",
    "print('jogadores agora:', df_players.shape[0], '\\n')\n",
    "\n",
    "df_teamstats['win'] = df_teamstats['win'].astype(int)\n",
    "print('valores únicos de win:', df_teamstats.win.unique())"
   ]
  },
  {
   "cell_type": "markdown",
   "metadata": {},
   "source": [
    "5. Trocar `NONE` por `JUNGLE`: "
   ]
  },
  {
   "cell_type": "code",
   "execution_count": null,
   "metadata": {
    "scrolled": true
   },
   "outputs": [],
   "source": [
    "df_players['role'].replace(['NONE'], 'JUNGLER', inplace=True)\n",
    "df_players.head()"
   ]
  },
  {
   "cell_type": "markdown",
   "metadata": {},
   "source": [
    "## Análise Exploratória\n",
    "\n",
    "A ideia é aqui ver a distribuição de alguns atributos, suas estatísticas básicas; visualizar uma matriz de correlação entre todos os atributos e entre todos os atributos vs vitória; tentaremos também reduzir a dimensionalidade nas bases de jogadores e times."
   ]
  },
  {
   "cell_type": "markdown",
   "metadata": {},
   "source": [
    "### Explorando Valores dos Jogadores\n",
    "\n",
    "Vamos começar averiguando os atributos mais interessantes dos jogadores: `role`, `kills`, `deaths`, `assists`, `visionscore`, `totminionskilled`."
   ]
  },
  {
   "cell_type": "code",
   "execution_count": null,
   "metadata": {},
   "outputs": [],
   "source": [
    "keys_role = df_players['role'].value_counts().keys().tolist()\n",
    "counts_role = df_players['role'].value_counts().tolist()\n",
    "total_role = sum(counts_role)\n",
    "rates_role = [x/total_role for x in counts_role]\n",
    "\n",
    "keys_kills = df_players['kills'].value_counts().keys().tolist()\n",
    "counts_kills = df_players['kills'].value_counts().tolist()\n",
    "total_kills = sum(counts_kills)\n",
    "rates_kills = [x/total_kills for x in counts_kills]\n",
    "\n",
    "keys_deaths = df_players['deaths'].value_counts().keys().tolist()\n",
    "counts_deaths = df_players['deaths'].value_counts().tolist()\n",
    "total_deaths = sum(counts_deaths)\n",
    "rates_deaths = [x/total_deaths for x in counts_deaths]\n",
    "\n",
    "keys_assists = df_players['assists'].value_counts().keys().tolist()\n",
    "counts_assists = df_players['assists'].value_counts().tolist()\n",
    "total_assists = sum(counts_assists)\n",
    "rates_assists = [x/total_assists for x in counts_assists]\n",
    "\n",
    "trace1 = go.Bar(x=keys_role, y=counts_role, name='role', text=['porcentagem: ' + str(round(x,4)) for x in rates_role])\n",
    "trace2 = go.Bar(x=keys_kills, y=counts_kills, name='kills', text=['porcentagem: ' + str(round(x,4)) for x in rates_kills])\n",
    "trace3 = go.Bar(x=keys_deaths, y=counts_deaths, name='deaths', text=['porcentagem: ' + str(round(x,4)) \n",
    "                                                                     for x in rates_deaths])\n",
    "trace4 = go.Bar(x=keys_assists, y=counts_assists, name='assists', text=['porcentagem: ' + str(round(x,4)) \n",
    "                                                                        for x in rates_assists])\n",
    "\n",
    "fig = tools.make_subplots(rows=2, cols=2, subplot_titles=('Subplot 1: Role', 'Subplot 2: Kills', 'Subplot 3: Deaths', \n",
    "                                                          'Subplot 4: Assists'))\n",
    "\n",
    "fig.append_trace(trace1, 1, 1)\n",
    "fig.append_trace(trace2, 1, 2)\n",
    "fig.append_trace(trace3, 2, 1)\n",
    "fig.append_trace(trace4, 2, 2)\n",
    "\n",
    "fig['layout'].update(title='Gráficos de distribuição')\n",
    "\n",
    "plotly.offline.iplot(figure_or_data=fig)"
   ]
  },
  {
   "cell_type": "markdown",
   "metadata": {},
   "source": [
    "Vamos começar vendo a distribuição dos valores de `role`. Na teoria, cada partida possui 5 funções sempre. Como na base as funções de _top laner_ e _mid laner_ são representadas como `SOLO` nós iremos considerar como a mesma função em posições diferentes. Assim, cada função dentre _jungler_, _carry_ e _support_ deveria corresponder à `1/5 (20%)` da base, e a função _solo_ deveria corresponder à `2/5 (40%)` da base. O que corresponde, aproximadamente, ao gráfico mostrado no subplot 1.\n",
    "\n",
    "Vamos agora conferir algumas estatísticas básicas:"
   ]
  },
  {
   "cell_type": "code",
   "execution_count": null,
   "metadata": {},
   "outputs": [],
   "source": [
    "print('total de pontos:', len(df_players.kills))\n",
    "print('mínimo e máximo:', min(df_players.kills), max(df_players.kills))\n",
    "print('média:', np.mean(df_players.kills))\n",
    "print('mediana:', np.median(df_players.kills))\n",
    "print('variância:', np.var(df_players.kills))\n",
    "print('desvio-padrão:', np.std(df_players.kills))"
   ]
  },
  {
   "cell_type": "code",
   "execution_count": null,
   "metadata": {},
   "outputs": [],
   "source": [
    "print('total de pontos:', len(df_players.deaths))\n",
    "print('mínimo e máximo:', min(df_players.deaths), max(df_players.deaths))\n",
    "print('média:', np.mean(df_players.deaths))\n",
    "print('mediana:', np.median(df_players.deaths))\n",
    "print('variância:', np.var(df_players.deaths))\n",
    "print('desvio-padrão:', np.std(df_players.deaths))"
   ]
  },
  {
   "cell_type": "code",
   "execution_count": null,
   "metadata": {},
   "outputs": [],
   "source": [
    "print('total de pontos:', len(df_players.assists))\n",
    "print('mínimo e máximo:', min(df_players.assists), max(df_players.assists))\n",
    "print('média:', np.mean(df_players.assists))\n",
    "print('mediana:', np.median(df_players.assists))\n",
    "print('variância:', np.var(df_players.assists))\n",
    "print('desvio-padrão:', np.std(df_players.assists))"
   ]
  },
  {
   "cell_type": "markdown",
   "metadata": {},
   "source": [
    "Falando um pouco sobre os três conjuntos de estatísticas para `kills`, `deaths` e `assists`: a primeira coisa que notamos é que os valores são bastante próximos, provavelmente porque são vários jogadores na mesma partida e as estatísticas de um influenciam nas estatísticas de outros. O número médio de assists é maior que de _kills_ e _deaths_ e isso pode ser explicado pela facilidade em se conseguir uma assistência: basta causar algum dano no campeão inimigo enquanto o mesmo estiver em luta e for morto nela."
   ]
  },
  {
   "cell_type": "code",
   "execution_count": null,
   "metadata": {},
   "outputs": [],
   "source": [
    "keys_visionscore = df_players['visionscore'].value_counts().keys().tolist()\n",
    "counts_visionscore = df_players['visionscore'].value_counts().tolist()\n",
    "\n",
    "keys_totminionskilled = df_players['totminionskilled'].value_counts().keys().tolist()\n",
    "counts_totminionskilled = df_players['totminionskilled'].value_counts().tolist()\n",
    "\n",
    "trace1 = go.Bar(x=keys_visionscore, y=counts_visionscore)\n",
    "trace2 = go.Bar(x=keys_totminionskilled, y=counts_totminionskilled)\n",
    "\n",
    "fig = tools.make_subplots(rows=2, cols=1, subplot_titles=('Visionscore', 'Totminionskilled'))\n",
    "\n",
    "fig.append_trace(trace1, 1, 1)\n",
    "fig.append_trace(trace2, 2, 1)\n",
    "\n",
    "fig['layout'].update(title='Gráficos de distribuição')\n",
    "\n",
    "plotly.offline.iplot(figure_or_data=fig)"
   ]
  },
  {
   "cell_type": "code",
   "execution_count": null,
   "metadata": {},
   "outputs": [],
   "source": [
    "print('total de pontos:', len(df_players.visionscore))\n",
    "print('mínimo e máximo:', min(df_players.visionscore), max(df_players.visionscore))\n",
    "print('média:', np.mean(df_players.visionscore))\n",
    "print('mediana:', np.median(df_players.visionscore))\n",
    "print('variância:', np.var(df_players.visionscore))\n",
    "print('desvio-padrão:', np.std(df_players.visionscore))"
   ]
  },
  {
   "cell_type": "code",
   "execution_count": null,
   "metadata": {},
   "outputs": [],
   "source": [
    "print('total de pontos:', len(df_players.totminionskilled))\n",
    "print('mínimo e máximo:', min(df_players.totminionskilled), max(df_players.totminionskilled))\n",
    "print('média:', np.mean(df_players.totminionskilled))\n",
    "print('mediana:', np.median(df_players.totminionskilled))\n",
    "print('variância:', np.var(df_players.totminionskilled))\n",
    "print('desvio-padrão:', np.std(df_players.totminionskilled))"
   ]
  },
  {
   "cell_type": "markdown",
   "metadata": {},
   "source": [
    "Análisando agora os valores de `visionscore` e `totminionkilleds`. Aqui a diferença entre valores dentro dos atributos é gritante e pode ser explicada pelas características pessoais dos jogadores e de suas funções exercidas (já que não são atributos influenciados por fatores externos), além do nível de habilidade. \n",
    "\n",
    "No caso do placar de visão, infelizmente em ranques mais baixos os jogadores não constumam colocar sentinelas de visão no mapa (apesar de visão ser um dos objetivos mais importantes do jogo) e a função de colocar sentinelas fica encabida aos suportes, por isso temos um pico no valor 0. \n",
    "\n",
    "Para o total de _farm_ do jogador, precisamos levar em consideração que diferentes funções possuem estilo de _farm_ diferente. Suportes geralmente farmam pouco, em torno de 50 por partida. As outras funções deveriam fazer na casa das 200 tropas por partida, mas não é o que geralmente acontece. Em tíers mais baixos é comum as pessoas não saberem farmar e existe a concepção de que matar inimigos é mais importante que conseguir dinheiro e experiência, o que é ridiculamente errôneo (chega um ponto que os campeões podem valer menos que tropas e objetivos). \n",
    "\n",
    "Há também algumas estratégias fortes que existiram nos metas englobados na base que priorizam o _farm_, geralmente em conjunto com levar torres rapidamente. Algumas das estraegias mais famosas são: _jungle power farm_ (Karthus e Nunu, Master Yi e Taric, dentre outras combinações), _proxy Singed_ (Singed mata os minions entre as torres, fazendo com que sua tropa puxe mais rápido as torres), _tower rush_ (foco exclusivamente em tropas e torres, geralmente utilizando Tryndamere e Heimerdinger)."
   ]
  },
  {
   "cell_type": "markdown",
   "metadata": {},
   "source": [
    "### Explorando Valores dos Times\n",
    "\n",
    "Vamos começar averiguando os atributos mais interessantes dos times: `towerkills`, `inhibkills`, `baronkills`, `dragonkills`, `harrykills`:  "
   ]
  },
  {
   "cell_type": "markdown",
   "metadata": {},
   "source": [
    "## Perguntas"
   ]
  },
  {
   "cell_type": "markdown",
   "metadata": {},
   "source": [
    "Examinando `championid` gostaríamos de ver quais são os campeões mais escolhidos pelos jogadores:"
   ]
  },
  {
   "cell_type": "code",
   "execution_count": null,
   "metadata": {},
   "outputs": [],
   "source": [
    "keys = df_players['championid'].value_counts().keys().tolist()\n",
    "counts = df_players['championid'].value_counts().tolist()\n",
    "total = sum(counts)\n",
    "\n",
    "names = [df_champs.loc[df_champs['championid'] == x]['name'].iloc[0] for x in keys]\n",
    "rates = [x/total*100 for x in counts]\n",
    "\n",
    "data = [go.Bar(x=names, y=rates)]\n",
    "\n",
    "plotly.offline.iplot({\"data\": data})"
   ]
  },
  {
   "cell_type": "markdown",
   "metadata": {},
   "source": [
    "## Lixo\n",
    "\n",
    "**Ideias:**\n",
    "* visualização dos dados\n",
    "* cálculo de estatísticas\n",
    "    * cálculo do kda médio por função (juntar todos os tipos de support)\n",
    "    * estatística de trinkets colocadas por champion sendo utilizado. Aí cê pensa que quer dividir isso por season --> conferir porcentagem de vitória baseado no placar de visão médio (somatório?)\n",
    "    * correlação vision score x vitória\n",
    "    * histograma pra ver a distribuição dos valores do placar de visão (histograma de outros valores também)\n",
    "* matriz de correlação\n",
    "* redução de dimensionalidade"
   ]
  },
  {
   "cell_type": "markdown",
   "metadata": {},
   "source": [
    "data = [go.Scatter(x=[1, 2, 3, 4], y=[4, 3, 2, 1])]\n",
    "\n",
    "layout = go.Layout(title=\"hello world\")\n",
    "plotly.offline.iplot({\"data\": data, \"layout\": layout})"
   ]
  },
  {
   "cell_type": "code",
   "execution_count": null,
   "metadata": {},
   "outputs": [],
   "source": []
  }
 ],
 "metadata": {
  "kernelspec": {
   "display_name": "Python 3",
   "language": "python",
   "name": "python3"
  },
  "language_info": {
   "codemirror_mode": {
    "name": "ipython",
    "version": 3
   },
   "file_extension": ".py",
   "mimetype": "text/x-python",
   "name": "python",
   "nbconvert_exporter": "python",
   "pygments_lexer": "ipython3",
   "version": "3.6.5"
  }
 },
 "nbformat": 4,
 "nbformat_minor": 2
}
